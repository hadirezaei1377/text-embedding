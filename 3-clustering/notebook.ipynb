{
 "cells": [
  {
   "cell_type": "code",
   "execution_count": null,
   "metadata": {},
   "outputs": [],
   "source": [
    "## Activate virtual env\n",
    "# $ !python3 -m virtualenv .venv\n",
    "# $ !source .venv/bin/activate\n",
    "\n",
    "## Install OpenAI package\n",
    "# $ !pip install openai\n",
    "\n",
    "## Export Gilas.io API key\n",
    "# $ os.environ[\"GILAS_API_KEY\"]='...'"
   ]
  },
  {
   "cell_type": "code",
   "execution_count": null,
   "metadata": {},
   "outputs": [],
   "source": [
    "import os\n",
    "import tiktoken\n",
    "from dotenv import load_dotenv\n",
    "from openai import OpenAI\n",
    "\n",
    "load_dotenv()  \n",
    "\n",
    "client = OpenAI(\n",
    "    api_key=os.environ.get(\"GILAS_API_KEY\"),\n",
    "    base_url=\"https://api.gilas.io/v1/\"\n",
    ")"
   ]
  },
  {
   "cell_type": "code",
   "execution_count": null,
   "metadata": {},
   "outputs": [],
   "source": [
    "def get_embedding(text, dimentions=1531, model=\"text-embedding-3-small\"):\n",
    "   text = text.replace(\"\\n\", \" \")\n",
    "   return client.embeddings.create(input = [text], dimensions=dimentions, model=model).data[0].embedding"
   ]
  },
  {
   "cell_type": "code",
   "execution_count": null,
   "metadata": {},
   "outputs": [],
   "source": [
    "import pandas as pd\n",
    "\n",
    "# load & inspect dataset\n",
    "input_datapath = \"../data/reviews.csv\"  # to save space, we provide a pre-filtered dataset\n",
    "df = pd.read_csv(input_datapath, index_col=0, delimiter=\";\")\n",
    "df = df[[\"ProductId\", \"Score\", \"Text\"]]\n",
    "df = df.dropna()\n",
    "df.head(2)"
   ]
  },
  {
   "cell_type": "code",
   "execution_count": null,
   "metadata": {},
   "outputs": [],
   "source": [
    "import numpy as np\n",
    "\n",
    "dimentions = 100\n",
    "embedding_array = np.empty((0, dimentions))\n",
    "\n",
    "for index, row in df.iterrows():\n",
    "    embedding_array = np.append(embedding_array, [get_embedding(row['Text'], dimentions=dimentions)], axis=0) "
   ]
  },
  {
   "cell_type": "code",
   "execution_count": null,
   "metadata": {},
   "outputs": [],
   "source": [
    "print(embedding_array.shape)\n",
    "display(embedding_array)"
   ]
  },
  {
   "cell_type": "code",
   "execution_count": null,
   "metadata": {},
   "outputs": [],
   "source": [
    "from sklearn.cluster import KMeans\n",
    "from sklearn.decomposition import PCA\n",
    "\n",
    "n_clusters = 10\n",
    "kmeans = KMeans(n_clusters=n_clusters, \n",
    "                random_state=0, \n",
    "                n_init = 'auto').fit(embedding_array)"
   ]
  },
  {
   "cell_type": "code",
   "execution_count": null,
   "metadata": {},
   "outputs": [],
   "source": [
    "kmeans_labels = kmeans.labels_"
   ]
  },
  {
   "cell_type": "code",
   "execution_count": null,
   "metadata": {},
   "outputs": [],
   "source": [
    "PCA_model = PCA(n_components=2)\n",
    "PCA_model.fit(embedding_array)\n",
    "new_values = PCA_model.transform(embedding_array)"
   ]
  },
  {
   "cell_type": "code",
   "execution_count": null,
   "metadata": {},
   "outputs": [],
   "source": [
    "import matplotlib.pyplot as plt\n",
    "import mplcursors  # Ensure mplcursors is installed\n",
    "\n",
    "def clusters_2D(x_values, y_values, labels, kmeans_labels):\n",
    "    # Create the plot\n",
    "    fig, ax = plt.subplots()\n",
    "    scatter = ax.scatter(x_values,\n",
    "                         y_values,\n",
    "                         c=kmeans_labels,\n",
    "                         cmap='Set1',\n",
    "                         alpha=0.5,\n",
    "                         edgecolors='k',\n",
    "                         s=40)  # Marker size\n",
    "\n",
    "    # Create a mplcursors object for interactive data point inspection\n",
    "    cursor = mplcursors.cursor(scatter, hover=True)\n",
    "\n",
    "    # Set axes titles and labels\n",
    "    ax.set_title('Embedding clusters visualization in 2D')\n",
    "    ax.set_xlabel('X_1')  # X-axis label\n",
    "    ax.set_ylabel('X_2')  # Y-axis label\n",
    "\n",
    "    # Define how each annotation (data point label) should look\n",
    "    @cursor.connect(\"add\")\n",
    "    def on_add(sel):\n",
    "        # Assuming 'labels' is an object with a 'category' attribute that's indexable\n",
    "        sel.annotation.set_text(labels.category[sel.target.index])\n",
    "        sel.annotation.get_bbox_patch().set(facecolor='white', alpha=0.95)\n",
    "        sel.annotation.set_fontsize(14)\n",
    "\n",
    "    plt.show()\n"
   ]
  },
  {
   "cell_type": "code",
   "execution_count": null,
   "metadata": {},
   "outputs": [],
   "source": [
    "clusters_2D(x_values = new_values[:,0], y_values = new_values[:,1], \n",
    "            labels = df, kmeans_labels = kmeans_labels)"
   ]
  }
 ],
 "metadata": {
  "kernelspec": {
   "display_name": ".venv",
   "language": "python",
   "name": "python3"
  },
  "language_info": {
   "codemirror_mode": {
    "name": "ipython",
    "version": 3
   },
   "file_extension": ".py",
   "mimetype": "text/x-python",
   "name": "python",
   "nbconvert_exporter": "python",
   "pygments_lexer": "ipython3",
   "version": "3.11.7"
  }
 },
 "nbformat": 4,
 "nbformat_minor": 2
}
